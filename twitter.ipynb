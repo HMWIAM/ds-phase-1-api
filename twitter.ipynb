{
 "cells": [
  {
   "cell_type": "markdown",
   "metadata": {},
   "source": [
    "![twitter](images/twitter.jpg)"
   ]
  },
  {
   "cell_type": "markdown",
   "metadata": {},
   "source": [
    "## Objective\n",
    "\n",
    "* Retrive data from the twitter API"
   ]
  },
  {
   "cell_type": "markdown",
   "metadata": {},
   "source": [
    "## Loading Python Packages"
   ]
  },
  {
   "cell_type": "code",
   "execution_count": 33,
   "metadata": {},
   "outputs": [
    {
     "data": {
      "text/plain": [
       "True"
      ]
     },
     "execution_count": 33,
     "metadata": {},
     "output_type": "execute_result"
    }
   ],
   "source": [
    "# numpy for high level mathematical functions and working with Arrays\n",
    "import numpy as np\n",
    "# pandas data manipulation and analysis for tablular data\n",
    "import pandas as pd\n",
    "\n",
    "# tweepy to access the twitter API\n",
    "import tweepy\n",
    "# request to send http request \n",
    "import requests\n",
    "# operating system functionality ie read,paths,readline\n",
    "import os\n",
    "# env for credentials\n",
    "from dotenv import load_dotenv\n",
    "# path to .env\n",
    "path_to_env = \".env\"\n",
    "load_dotenv(path_to_env)"
   ]
  },
  {
   "cell_type": "code",
   "execution_count": 34,
   "metadata": {},
   "outputs": [],
   "source": [
    "# Credentials\n",
    "consumer_key = os.getenv(\"API_KEY\")\n",
    "consumer_secret = os.getenv(\"API_KEY_SECRET\")\n",
    "access_token = os.getenv(\"ACCESS_TOKEN\")\n",
    "access_token_secret = os.getenv(\"ACCESS_TOKEN_SECRET\")\n",
    "bearer_token = os.getenv(\"BEARER_TOKEN\")"
   ]
  },
  {
   "cell_type": "code",
   "execution_count": 35,
   "metadata": {},
   "outputs": [],
   "source": [
    "# intialize the client (Tweepy's interface for Twitter API v2)\n",
    "\n",
    "client = tweepy.Client(\n",
    "    bearer_token=bearer_token,\n",
    "    consumer_key=consumer_key,\n",
    "    consumer_secret=consumer_secret,\n",
    "    access_token=access_token,\n",
    "    access_token_secret=access_token_secret,\n",
    "    return_type=requests.Response,\n",
    "    wait_on_rate_limit=True\n",
    ")"
   ]
  },
  {
   "cell_type": "markdown",
   "metadata": {},
   "source": [
    "## Mentions\n",
    "\n",
    "Retrieving the tweets mentioning a single user specified by their tweeter username. Returns the most recent ten tweets by default per request but you can use pagination to retrieve up to 800 tweets.\n",
    "\n",
    "Find out more [here](https://developer.twitter.com/en/docs/twitter-api/tweets/timelines/api-reference/get-users-id-mentions) from twitter's developer platform.\n",
    "\n",
    "Kenyans' are quick to twitter to raise complaints directed at government parastatals such as [Kenya Power](https://twitter.com/KenyaPower_Care?ref_src=twsrc%5Egoogle%7Ctwcamp%5Eserp%7Ctwgr%5Eauthor), banks such as [KCB](https://twitter.com/kcbcare?lang=en), telecommunication companies such as [safaricom](https://twitter.com/safaricom_care). Such Data can be collected and their sentiments analyzed to and get a glimpse of what their customers complains are.\n",
    "\n",
    "Lets have a look at tweets sent to KenyaPower_Care"
   ]
  },
  {
   "cell_type": "code",
   "execution_count": 36,
   "metadata": {},
   "outputs": [
    {
     "data": {
      "text/plain": [
       "'147561402'"
      ]
     },
     "execution_count": 36,
     "metadata": {},
     "output_type": "execute_result"
    }
   ],
   "source": [
    "# Key parameter for getting mentions is the id\n",
    "def get_user_id(user_name):\n",
    "    \"\"\"Simple function to get twiiter account user ID\"\"\"\n",
    "    response = client.get_user(username=user_name).json()\n",
    "    # response is a json file with data containing username, name and ID\n",
    "    userID = response[\"data\"][\"id\"]\n",
    "\n",
    "    return userID \n",
    "\n",
    "\n",
    "\n",
    "get_user_id(\"KenyaPower_Care\") "
   ]
  },
  {
   "cell_type": "code",
   "execution_count": 37,
   "metadata": {},
   "outputs": [
    {
     "data": {
      "text/plain": [
       "<Response [200]>"
      ]
     },
     "execution_count": 37,
     "metadata": {},
     "output_type": "execute_result"
    }
   ],
   "source": [
    "# getting five mention the KenyaPower_Care twitter account\n",
    "tweet = client.get_users_mentions(\n",
    "    id=147561402,\n",
    "    tweet_fields=['created_at', 'public_metrics'],\n",
    "    max_results=5\n",
    ")\n",
    "\n",
    "tweet"
   ]
  },
  {
   "cell_type": "code",
   "execution_count": 38,
   "metadata": {},
   "outputs": [
    {
     "data": {
      "text/plain": [
       "{'data': [{'id': '1592112018353684482',\n",
       "   'public_metrics': {'retweet_count': 0,\n",
       "    'reply_count': 0,\n",
       "    'like_count': 0,\n",
       "    'quote_count': 0},\n",
       "   'text': '@KenyaPower_Care no power supply, kindly assist https://t.co/jSHU7MTROb',\n",
       "   'created_at': '2022-11-14T11:07:39.000Z',\n",
       "   'edit_history_tweet_ids': ['1592112018353684482']},\n",
       "  {'id': '1592111416261197824',\n",
       "   'public_metrics': {'retweet_count': 0,\n",
       "    'reply_count': 0,\n",
       "    'like_count': 0,\n",
       "    'quote_count': 0},\n",
       "   'text': '@Allan09036042 @KenyaPower_Care But inaletanga homa sana',\n",
       "   'created_at': '2022-11-14T11:05:16.000Z',\n",
       "   'edit_history_tweet_ids': ['1592111416261197824']},\n",
       "  {'id': '1592110700100747264',\n",
       "   'public_metrics': {'retweet_count': 0,\n",
       "    'reply_count': 0,\n",
       "    'like_count': 0,\n",
       "    'quote_count': 0},\n",
       "   'text': '@gladowjsang @KenyaPower_Care Pesa iko',\n",
       "   'created_at': '2022-11-14T11:02:25.000Z',\n",
       "   'edit_history_tweet_ids': ['1592110700100747264']},\n",
       "  {'id': '1592110354620112897',\n",
       "   'public_metrics': {'retweet_count': 0,\n",
       "    'reply_count': 1,\n",
       "    'like_count': 0,\n",
       "    'quote_count': 0},\n",
       "   'text': '@KenyaPower_Care Well noted and appreciated MW. Thank you',\n",
       "   'created_at': '2022-11-14T11:01:03.000Z',\n",
       "   'edit_history_tweet_ids': ['1592110354620112897']},\n",
       "  {'id': '1592110217814495233',\n",
       "   'public_metrics': {'retweet_count': 0,\n",
       "    'reply_count': 2,\n",
       "    'like_count': 0,\n",
       "    'quote_count': 0},\n",
       "   'text': \"@RobertAlai help us follow @KenyaPower_Care ref. no 8730088 and it's not been sorted for 2 weeks. Blown transformer. The staff at Mbale Kenya have the audacity to tell some of to wait till February.\",\n",
       "   'created_at': '2022-11-14T11:00:30.000Z',\n",
       "   'edit_history_tweet_ids': ['1592110217814495233']}],\n",
       " 'meta': {'next_token': '7140dibdnow9c7btw424c279w7mcnlhjjpkcwyqjysto3',\n",
       "  'result_count': 5,\n",
       "  'newest_id': '1592112018353684482',\n",
       "  'oldest_id': '1592110217814495233'}}"
      ]
     },
     "execution_count": 38,
     "metadata": {},
     "output_type": "execute_result"
    }
   ],
   "source": [
    "# turn into a dictionary\n",
    "tweet.json()"
   ]
  },
  {
   "cell_type": "code",
   "execution_count": 117,
   "metadata": {},
   "outputs": [
    {
     "data": {
      "text/plain": [
       "'Antonny'"
      ]
     },
     "execution_count": 117,
     "metadata": {},
     "output_type": "execute_result"
    }
   ],
   "source": [
    "name = {\"first\": \"Antonny\", \"second\":\"Muiko\"}\n",
    "\n",
    "name[\"first\"]\n"
   ]
  },
  {
   "cell_type": "code",
   "execution_count": 39,
   "metadata": {},
   "outputs": [],
   "source": [
    "# getting more mentions the Kenya Power Care twitter account\n",
    "tweets = client.get_users_mentions(\n",
    "    id=get_user_id(\"KenyaPower_Care\"),\n",
    "    tweet_fields=['created_at', 'public_metrics'],\n",
    "    max_results=100\n",
    "    )"
   ]
  },
  {
   "cell_type": "code",
   "execution_count": 40,
   "metadata": {},
   "outputs": [],
   "source": [
    "# Save data as dictionary\n",
    "tweets_dict = tweets.json()"
   ]
  },
  {
   "cell_type": "code",
   "execution_count": 41,
   "metadata": {},
   "outputs": [],
   "source": [
    "# Extract \"data\" value from dictionary\n",
    "tweets_data = tweets_dict['data']"
   ]
  },
  {
   "cell_type": "code",
   "execution_count": 42,
   "metadata": {},
   "outputs": [],
   "source": [
    "# transform to pandas DataFrame\n",
    "data = pd.json_normalize(tweets_data)"
   ]
  },
  {
   "cell_type": "code",
   "execution_count": 43,
   "metadata": {},
   "outputs": [
    {
     "data": {
      "text/html": [
       "<div>\n",
       "<style scoped>\n",
       "    .dataframe tbody tr th:only-of-type {\n",
       "        vertical-align: middle;\n",
       "    }\n",
       "\n",
       "    .dataframe tbody tr th {\n",
       "        vertical-align: top;\n",
       "    }\n",
       "\n",
       "    .dataframe thead th {\n",
       "        text-align: right;\n",
       "    }\n",
       "</style>\n",
       "<table border=\"1\" class=\"dataframe\">\n",
       "  <thead>\n",
       "    <tr style=\"text-align: right;\">\n",
       "      <th></th>\n",
       "      <th>id</th>\n",
       "      <th>created_at</th>\n",
       "      <th>text</th>\n",
       "      <th>edit_history_tweet_ids</th>\n",
       "      <th>public_metrics.retweet_count</th>\n",
       "      <th>public_metrics.reply_count</th>\n",
       "      <th>public_metrics.like_count</th>\n",
       "      <th>public_metrics.quote_count</th>\n",
       "    </tr>\n",
       "  </thead>\n",
       "  <tbody>\n",
       "    <tr>\n",
       "      <th>0</th>\n",
       "      <td>1592112018353684482</td>\n",
       "      <td>2022-11-14T11:07:39.000Z</td>\n",
       "      <td>@KenyaPower_Care no power supply, kindly assis...</td>\n",
       "      <td>[1592112018353684482]</td>\n",
       "      <td>0</td>\n",
       "      <td>0</td>\n",
       "      <td>0</td>\n",
       "      <td>0</td>\n",
       "    </tr>\n",
       "    <tr>\n",
       "      <th>1</th>\n",
       "      <td>1592111416261197824</td>\n",
       "      <td>2022-11-14T11:05:16.000Z</td>\n",
       "      <td>@Allan09036042 @KenyaPower_Care But inaletanga...</td>\n",
       "      <td>[1592111416261197824]</td>\n",
       "      <td>0</td>\n",
       "      <td>0</td>\n",
       "      <td>0</td>\n",
       "      <td>0</td>\n",
       "    </tr>\n",
       "    <tr>\n",
       "      <th>2</th>\n",
       "      <td>1592110700100747264</td>\n",
       "      <td>2022-11-14T11:02:25.000Z</td>\n",
       "      <td>@gladowjsang @KenyaPower_Care Pesa iko</td>\n",
       "      <td>[1592110700100747264]</td>\n",
       "      <td>0</td>\n",
       "      <td>0</td>\n",
       "      <td>0</td>\n",
       "      <td>0</td>\n",
       "    </tr>\n",
       "    <tr>\n",
       "      <th>3</th>\n",
       "      <td>1592110354620112897</td>\n",
       "      <td>2022-11-14T11:01:03.000Z</td>\n",
       "      <td>@KenyaPower_Care Well noted and appreciated MW...</td>\n",
       "      <td>[1592110354620112897]</td>\n",
       "      <td>0</td>\n",
       "      <td>1</td>\n",
       "      <td>0</td>\n",
       "      <td>0</td>\n",
       "    </tr>\n",
       "    <tr>\n",
       "      <th>4</th>\n",
       "      <td>1592110217814495233</td>\n",
       "      <td>2022-11-14T11:00:30.000Z</td>\n",
       "      <td>@RobertAlai help us follow @KenyaPower_Care re...</td>\n",
       "      <td>[1592110217814495233]</td>\n",
       "      <td>0</td>\n",
       "      <td>2</td>\n",
       "      <td>0</td>\n",
       "      <td>0</td>\n",
       "    </tr>\n",
       "  </tbody>\n",
       "</table>\n",
       "</div>"
      ],
      "text/plain": [
       "                    id                created_at  \\\n",
       "0  1592112018353684482  2022-11-14T11:07:39.000Z   \n",
       "1  1592111416261197824  2022-11-14T11:05:16.000Z   \n",
       "2  1592110700100747264  2022-11-14T11:02:25.000Z   \n",
       "3  1592110354620112897  2022-11-14T11:01:03.000Z   \n",
       "4  1592110217814495233  2022-11-14T11:00:30.000Z   \n",
       "\n",
       "                                                text edit_history_tweet_ids  \\\n",
       "0  @KenyaPower_Care no power supply, kindly assis...  [1592112018353684482]   \n",
       "1  @Allan09036042 @KenyaPower_Care But inaletanga...  [1592111416261197824]   \n",
       "2             @gladowjsang @KenyaPower_Care Pesa iko  [1592110700100747264]   \n",
       "3  @KenyaPower_Care Well noted and appreciated MW...  [1592110354620112897]   \n",
       "4  @RobertAlai help us follow @KenyaPower_Care re...  [1592110217814495233]   \n",
       "\n",
       "   public_metrics.retweet_count  public_metrics.reply_count  \\\n",
       "0                             0                           0   \n",
       "1                             0                           0   \n",
       "2                             0                           0   \n",
       "3                             0                           1   \n",
       "4                             0                           2   \n",
       "\n",
       "   public_metrics.like_count  public_metrics.quote_count  \n",
       "0                          0                           0  \n",
       "1                          0                           0  \n",
       "2                          0                           0  \n",
       "3                          0                           0  \n",
       "4                          0                           0  "
      ]
     },
     "execution_count": 43,
     "metadata": {},
     "output_type": "execute_result"
    }
   ],
   "source": [
    "# preview the data\n",
    "data.head()"
   ]
  },
  {
   "cell_type": "code",
   "execution_count": 44,
   "metadata": {},
   "outputs": [
    {
     "data": {
      "text/plain": [
       "(99, 8)"
      ]
     },
     "execution_count": 44,
     "metadata": {},
     "output_type": "execute_result"
    }
   ],
   "source": [
    "# the shape of the dataframe\n",
    "data.shape"
   ]
  },
  {
   "cell_type": "code",
   "execution_count": 73,
   "metadata": {},
   "outputs": [],
   "source": [
    "# using paginator to get more than 100\n",
    "paginator = tweepy.Paginator(\n",
    "    client.get_users_mentions,                     # The method you want to use\n",
    "    id=get_user_id(\"KenyaPower_Care\"),\n",
    "    tweet_fields=['created_at', 'public_metrics'], # Some argument for this method\n",
    "    max_results=100,                               # How many tweets per page\n",
    "    limit=5                                        # How many pages to retrieve\n",
    ")"
   ]
  },
  {
   "cell_type": "code",
   "execution_count": 74,
   "metadata": {},
   "outputs": [],
   "source": [
    "# empty list to store the data\n",
    "data_list = []\n",
    "# using a loop to access the data \n",
    "for page in paginator:\n",
    "    # store as a dictionary\n",
    "    page_dict = page.json()\n",
    "    # add the dicts to the empty list \n",
    "    data_list.append(page_dict)   "
   ]
  },
  {
   "cell_type": "code",
   "execution_count": 76,
   "metadata": {},
   "outputs": [
    {
     "data": {
      "text/plain": [
       "5"
      ]
     },
     "execution_count": 76,
     "metadata": {},
     "output_type": "execute_result"
    }
   ],
   "source": [
    "# len of the data_list\n",
    "len(data_list)"
   ]
  },
  {
   "cell_type": "code",
   "execution_count": 102,
   "metadata": {},
   "outputs": [],
   "source": [
    "# empty list to store dicts \n",
    "data_dict_list = []\n",
    "# Extract \"data\" value from dictionary\n",
    "for item in data_list:\n",
    "    item_data = item['data']\n",
    "    data_dict_list.append(item_data)"
   ]
  },
  {
   "cell_type": "code",
   "execution_count": 103,
   "metadata": {},
   "outputs": [],
   "source": [
    "# empty list to store dataframe \n",
    "dataframes_list = []\n",
    "for page_dict in data_dict_list:\n",
    "    page_df = pd.json_normalize(page_dict)\n",
    "    dataframes_list.append(page_df)"
   ]
  },
  {
   "cell_type": "markdown",
   "metadata": {},
   "source": [
    "We now have a list of dataframes we have obtained from the KenyaPower_Care account which we can concatenate into one dataframe for our data."
   ]
  },
  {
   "cell_type": "code",
   "execution_count": 118,
   "metadata": {},
   "outputs": [
    {
     "data": {
      "text/html": [
       "<div>\n",
       "<style scoped>\n",
       "    .dataframe tbody tr th:only-of-type {\n",
       "        vertical-align: middle;\n",
       "    }\n",
       "\n",
       "    .dataframe tbody tr th {\n",
       "        vertical-align: top;\n",
       "    }\n",
       "\n",
       "    .dataframe thead th {\n",
       "        text-align: right;\n",
       "    }\n",
       "</style>\n",
       "<table border=\"1\" class=\"dataframe\">\n",
       "  <thead>\n",
       "    <tr style=\"text-align: right;\">\n",
       "      <th></th>\n",
       "      <th>A</th>\n",
       "      <th>B</th>\n",
       "    </tr>\n",
       "  </thead>\n",
       "  <tbody>\n",
       "    <tr>\n",
       "      <th>0</th>\n",
       "      <td>1</td>\n",
       "      <td>2a</td>\n",
       "    </tr>\n",
       "    <tr>\n",
       "      <th>1</th>\n",
       "      <td>2</td>\n",
       "      <td>2b</td>\n",
       "    </tr>\n",
       "    <tr>\n",
       "      <th>2</th>\n",
       "      <td>3</td>\n",
       "      <td>2c</td>\n",
       "    </tr>\n",
       "    <tr>\n",
       "      <th>3</th>\n",
       "      <td>4</td>\n",
       "      <td>2d</td>\n",
       "    </tr>\n",
       "  </tbody>\n",
       "</table>\n",
       "</div>"
      ],
      "text/plain": [
       "   A   B\n",
       "0  1  2a\n",
       "1  2  2b\n",
       "2  3  2c\n",
       "3  4  2d"
      ]
     },
     "execution_count": 118,
     "metadata": {},
     "output_type": "execute_result"
    }
   ],
   "source": [
    "df1 = pd.DataFrame({\"A\":[1,2,3,4], \"B\":[\"2a\", \"2b\", \"2c\", \"2d\"]})\n",
    "df2 = pd.DataFrame({\"A\":[5,6,7,8], \"B\":[\"3a\", \"3b\", \"3c\", \"3d\"]})\n",
    "df1"
   ]
  },
  {
   "cell_type": "code",
   "execution_count": 119,
   "metadata": {},
   "outputs": [
    {
     "data": {
      "text/html": [
       "<div>\n",
       "<style scoped>\n",
       "    .dataframe tbody tr th:only-of-type {\n",
       "        vertical-align: middle;\n",
       "    }\n",
       "\n",
       "    .dataframe tbody tr th {\n",
       "        vertical-align: top;\n",
       "    }\n",
       "\n",
       "    .dataframe thead th {\n",
       "        text-align: right;\n",
       "    }\n",
       "</style>\n",
       "<table border=\"1\" class=\"dataframe\">\n",
       "  <thead>\n",
       "    <tr style=\"text-align: right;\">\n",
       "      <th></th>\n",
       "      <th>A</th>\n",
       "      <th>B</th>\n",
       "    </tr>\n",
       "  </thead>\n",
       "  <tbody>\n",
       "    <tr>\n",
       "      <th>0</th>\n",
       "      <td>5</td>\n",
       "      <td>3a</td>\n",
       "    </tr>\n",
       "    <tr>\n",
       "      <th>1</th>\n",
       "      <td>6</td>\n",
       "      <td>3b</td>\n",
       "    </tr>\n",
       "    <tr>\n",
       "      <th>2</th>\n",
       "      <td>7</td>\n",
       "      <td>3c</td>\n",
       "    </tr>\n",
       "    <tr>\n",
       "      <th>3</th>\n",
       "      <td>8</td>\n",
       "      <td>3d</td>\n",
       "    </tr>\n",
       "  </tbody>\n",
       "</table>\n",
       "</div>"
      ],
      "text/plain": [
       "   A   B\n",
       "0  5  3a\n",
       "1  6  3b\n",
       "2  7  3c\n",
       "3  8  3d"
      ]
     },
     "execution_count": 119,
     "metadata": {},
     "output_type": "execute_result"
    }
   ],
   "source": [
    "df2"
   ]
  },
  {
   "cell_type": "code",
   "execution_count": 122,
   "metadata": {},
   "outputs": [
    {
     "data": {
      "text/html": [
       "<div>\n",
       "<style scoped>\n",
       "    .dataframe tbody tr th:only-of-type {\n",
       "        vertical-align: middle;\n",
       "    }\n",
       "\n",
       "    .dataframe tbody tr th {\n",
       "        vertical-align: top;\n",
       "    }\n",
       "\n",
       "    .dataframe thead th {\n",
       "        text-align: right;\n",
       "    }\n",
       "</style>\n",
       "<table border=\"1\" class=\"dataframe\">\n",
       "  <thead>\n",
       "    <tr style=\"text-align: right;\">\n",
       "      <th></th>\n",
       "      <th>A</th>\n",
       "      <th>B</th>\n",
       "    </tr>\n",
       "  </thead>\n",
       "  <tbody>\n",
       "    <tr>\n",
       "      <th>0</th>\n",
       "      <td>1</td>\n",
       "      <td>2a</td>\n",
       "    </tr>\n",
       "    <tr>\n",
       "      <th>1</th>\n",
       "      <td>2</td>\n",
       "      <td>2b</td>\n",
       "    </tr>\n",
       "    <tr>\n",
       "      <th>2</th>\n",
       "      <td>3</td>\n",
       "      <td>2c</td>\n",
       "    </tr>\n",
       "    <tr>\n",
       "      <th>3</th>\n",
       "      <td>4</td>\n",
       "      <td>2d</td>\n",
       "    </tr>\n",
       "    <tr>\n",
       "      <th>4</th>\n",
       "      <td>5</td>\n",
       "      <td>3a</td>\n",
       "    </tr>\n",
       "    <tr>\n",
       "      <th>5</th>\n",
       "      <td>6</td>\n",
       "      <td>3b</td>\n",
       "    </tr>\n",
       "    <tr>\n",
       "      <th>6</th>\n",
       "      <td>7</td>\n",
       "      <td>3c</td>\n",
       "    </tr>\n",
       "    <tr>\n",
       "      <th>7</th>\n",
       "      <td>8</td>\n",
       "      <td>3d</td>\n",
       "    </tr>\n",
       "  </tbody>\n",
       "</table>\n",
       "</div>"
      ],
      "text/plain": [
       "   A   B\n",
       "0  1  2a\n",
       "1  2  2b\n",
       "2  3  2c\n",
       "3  4  2d\n",
       "4  5  3a\n",
       "5  6  3b\n",
       "6  7  3c\n",
       "7  8  3d"
      ]
     },
     "execution_count": 122,
     "metadata": {},
     "output_type": "execute_result"
    }
   ],
   "source": [
    "df3 = pd.concat([df1, df2], axis=0, ignore_index=True)\n",
    "df3"
   ]
  },
  {
   "cell_type": "code",
   "execution_count": 105,
   "metadata": {},
   "outputs": [],
   "source": [
    "# concat the dataframes\n",
    "df_kplc = pd.concat(dataframes_list, axis=0, ignore_index=True)"
   ]
  },
  {
   "cell_type": "code",
   "execution_count": 106,
   "metadata": {},
   "outputs": [
    {
     "name": "stdout",
     "output_type": "stream",
     "text": [
      "Total length should be 496.\n"
     ]
    },
    {
     "data": {
      "text/plain": [
       "[98, 100, 100, 100, 98]"
      ]
     },
     "execution_count": 106,
     "metadata": {},
     "output_type": "execute_result"
    }
   ],
   "source": [
    "# confirm the lengths of the dataframes\n",
    "length = []\n",
    "for df in dataframes_list:\n",
    "    length.append(len(df))\n",
    "\n",
    "print(f\"Total length should be {sum(length)}.\")\n",
    "length"
   ]
  },
  {
   "cell_type": "code",
   "execution_count": 107,
   "metadata": {},
   "outputs": [
    {
     "data": {
      "text/plain": [
       "496"
      ]
     },
     "execution_count": 107,
     "metadata": {},
     "output_type": "execute_result"
    }
   ],
   "source": [
    "len(df_kplc)"
   ]
  },
  {
   "cell_type": "code",
   "execution_count": 116,
   "metadata": {},
   "outputs": [
    {
     "data": {
      "text/html": [
       "<div>\n",
       "<style scoped>\n",
       "    .dataframe tbody tr th:only-of-type {\n",
       "        vertical-align: middle;\n",
       "    }\n",
       "\n",
       "    .dataframe tbody tr th {\n",
       "        vertical-align: top;\n",
       "    }\n",
       "\n",
       "    .dataframe thead th {\n",
       "        text-align: right;\n",
       "    }\n",
       "</style>\n",
       "<table border=\"1\" class=\"dataframe\">\n",
       "  <thead>\n",
       "    <tr style=\"text-align: right;\">\n",
       "      <th></th>\n",
       "      <th>text</th>\n",
       "      <th>edit_history_tweet_ids</th>\n",
       "      <th>id</th>\n",
       "      <th>created_at</th>\n",
       "      <th>public_metrics.retweet_count</th>\n",
       "      <th>public_metrics.reply_count</th>\n",
       "      <th>public_metrics.like_count</th>\n",
       "      <th>public_metrics.quote_count</th>\n",
       "    </tr>\n",
       "  </thead>\n",
       "  <tbody>\n",
       "    <tr>\n",
       "      <th>0</th>\n",
       "      <td>@KenyaPower_Care Am trying to load my token an...</td>\n",
       "      <td>[1592132805341110272]</td>\n",
       "      <td>1592132805341110272</td>\n",
       "      <td>2022-11-14T12:30:15.000Z</td>\n",
       "      <td>0</td>\n",
       "      <td>0</td>\n",
       "      <td>0</td>\n",
       "      <td>0</td>\n",
       "    </tr>\n",
       "    <tr>\n",
       "      <th>1</th>\n",
       "      <td>@KenyaPower_Care  respond to ref no. 8737190</td>\n",
       "      <td>[1592132057760944130]</td>\n",
       "      <td>1592132057760944130</td>\n",
       "      <td>2022-11-14T12:27:17.000Z</td>\n",
       "      <td>0</td>\n",
       "      <td>0</td>\n",
       "      <td>0</td>\n",
       "      <td>0</td>\n",
       "    </tr>\n",
       "    <tr>\n",
       "      <th>2</th>\n",
       "      <td>@KenyaPower_Care Can it be reversed?</td>\n",
       "      <td>[1592131682765000706]</td>\n",
       "      <td>1592131682765000706</td>\n",
       "      <td>2022-11-14T12:25:48.000Z</td>\n",
       "      <td>0</td>\n",
       "      <td>0</td>\n",
       "      <td>0</td>\n",
       "      <td>0</td>\n",
       "    </tr>\n",
       "    <tr>\n",
       "      <th>3</th>\n",
       "      <td>@KenyaPower_Care kindly check your dm</td>\n",
       "      <td>[1592131450610257922]</td>\n",
       "      <td>1592131450610257922</td>\n",
       "      <td>2022-11-14T12:24:52.000Z</td>\n",
       "      <td>0</td>\n",
       "      <td>0</td>\n",
       "      <td>0</td>\n",
       "      <td>0</td>\n",
       "    </tr>\n",
       "    <tr>\n",
       "      <th>4</th>\n",
       "      <td>@KenyaPower_Care hello, please confirm is powe...</td>\n",
       "      <td>[1592131422621667328]</td>\n",
       "      <td>1592131422621667328</td>\n",
       "      <td>2022-11-14T12:24:46.000Z</td>\n",
       "      <td>0</td>\n",
       "      <td>0</td>\n",
       "      <td>0</td>\n",
       "      <td>0</td>\n",
       "    </tr>\n",
       "  </tbody>\n",
       "</table>\n",
       "</div>"
      ],
      "text/plain": [
       "                                                text edit_history_tweet_ids  \\\n",
       "0  @KenyaPower_Care Am trying to load my token an...  [1592132805341110272]   \n",
       "1       @KenyaPower_Care  respond to ref no. 8737190  [1592132057760944130]   \n",
       "2               @KenyaPower_Care Can it be reversed?  [1592131682765000706]   \n",
       "3              @KenyaPower_Care kindly check your dm  [1592131450610257922]   \n",
       "4  @KenyaPower_Care hello, please confirm is powe...  [1592131422621667328]   \n",
       "\n",
       "                    id                created_at  \\\n",
       "0  1592132805341110272  2022-11-14T12:30:15.000Z   \n",
       "1  1592132057760944130  2022-11-14T12:27:17.000Z   \n",
       "2  1592131682765000706  2022-11-14T12:25:48.000Z   \n",
       "3  1592131450610257922  2022-11-14T12:24:52.000Z   \n",
       "4  1592131422621667328  2022-11-14T12:24:46.000Z   \n",
       "\n",
       "   public_metrics.retweet_count  public_metrics.reply_count  \\\n",
       "0                             0                           0   \n",
       "1                             0                           0   \n",
       "2                             0                           0   \n",
       "3                             0                           0   \n",
       "4                             0                           0   \n",
       "\n",
       "   public_metrics.like_count  public_metrics.quote_count  \n",
       "0                          0                           0  \n",
       "1                          0                           0  \n",
       "2                          0                           0  \n",
       "3                          0                           0  \n",
       "4                          0                           0  "
      ]
     },
     "execution_count": 116,
     "metadata": {},
     "output_type": "execute_result"
    }
   ],
   "source": [
    "# preview the data \n",
    "df_kplc.head()"
   ]
  },
  {
   "cell_type": "markdown",
   "metadata": {},
   "source": [
    "## Tweets from Account\n",
    "\n",
    "* Let’s search Tweets from Safaricom's Twitter account (@SafaricomPLC) from the last 7 days (search_recent_tweets).\n",
    "* We are going to exclude Retweets and limit the result to a maximum of 100 Tweets.\n",
    "* We also include some additional information with tweet_fields (when the Tweet was created and the reactions ie likes and retweets).\n"
   ]
  },
  {
   "cell_type": "code",
   "execution_count": 47,
   "metadata": {},
   "outputs": [],
   "source": [
    "# Define query\n",
    "query = 'from:SafaricomPLC -is:retweet'\n",
    "\n",
    "# retrieve recent tweets\n",
    "saf_tweets = client.search_recent_tweets(query=query, \n",
    "                                    tweet_fields=['created_at', 'public_metrics'],\n",
    "                                     max_results=100)"
   ]
  },
  {
   "cell_type": "code",
   "execution_count": 48,
   "metadata": {},
   "outputs": [],
   "source": [
    "# Save data as dictionary\n",
    "saf_tweets_dict = saf_tweets.json()"
   ]
  },
  {
   "cell_type": "code",
   "execution_count": 49,
   "metadata": {},
   "outputs": [],
   "source": [
    "# Extract \"data\" value from dictionary\n",
    "saf_tweets_data = saf_tweets_dict['data']"
   ]
  },
  {
   "cell_type": "code",
   "execution_count": 50,
   "metadata": {},
   "outputs": [],
   "source": [
    "# transform to pandas DataFrame\n",
    "saf_data = pd.json_normalize(saf_tweets_data)"
   ]
  },
  {
   "cell_type": "code",
   "execution_count": 52,
   "metadata": {},
   "outputs": [
    {
     "data": {
      "text/html": [
       "<div>\n",
       "<style scoped>\n",
       "    .dataframe tbody tr th:only-of-type {\n",
       "        vertical-align: middle;\n",
       "    }\n",
       "\n",
       "    .dataframe tbody tr th {\n",
       "        vertical-align: top;\n",
       "    }\n",
       "\n",
       "    .dataframe thead th {\n",
       "        text-align: right;\n",
       "    }\n",
       "</style>\n",
       "<table border=\"1\" class=\"dataframe\">\n",
       "  <thead>\n",
       "    <tr style=\"text-align: right;\">\n",
       "      <th></th>\n",
       "      <th>text</th>\n",
       "      <th>id</th>\n",
       "      <th>created_at</th>\n",
       "      <th>edit_history_tweet_ids</th>\n",
       "      <th>public_metrics.retweet_count</th>\n",
       "      <th>public_metrics.reply_count</th>\n",
       "      <th>public_metrics.like_count</th>\n",
       "      <th>public_metrics.quote_count</th>\n",
       "    </tr>\n",
       "  </thead>\n",
       "  <tbody>\n",
       "    <tr>\n",
       "      <th>0</th>\n",
       "      <td>@Otu_montana Hello Otu, dial ##21#OK.^FO</td>\n",
       "      <td>1592105684283400193</td>\n",
       "      <td>2022-11-14T10:42:29.000Z</td>\n",
       "      <td>[1592105684283400193]</td>\n",
       "      <td>0</td>\n",
       "      <td>1</td>\n",
       "      <td>0</td>\n",
       "      <td>0</td>\n",
       "    </tr>\n",
       "    <tr>\n",
       "      <th>1</th>\n",
       "      <td>@BrianKiriethe Hi Bob. Checking in a short whi...</td>\n",
       "      <td>1592102151408738304</td>\n",
       "      <td>2022-11-14T10:28:27.000Z</td>\n",
       "      <td>[1592102151408738304]</td>\n",
       "      <td>0</td>\n",
       "      <td>0</td>\n",
       "      <td>0</td>\n",
       "      <td>0</td>\n",
       "    </tr>\n",
       "    <tr>\n",
       "      <th>2</th>\n",
       "      <td>@Mr_Sarapai We are on it. ^RM</td>\n",
       "      <td>1592093896267513857</td>\n",
       "      <td>2022-11-14T09:55:39.000Z</td>\n",
       "      <td>[1592093896267513857]</td>\n",
       "      <td>0</td>\n",
       "      <td>0</td>\n",
       "      <td>0</td>\n",
       "      <td>0</td>\n",
       "    </tr>\n",
       "    <tr>\n",
       "      <th>3</th>\n",
       "      <td>@changer_Kenya Hello. Sorry for this. Kindly D...</td>\n",
       "      <td>1592088943012585473</td>\n",
       "      <td>2022-11-14T09:35:58.000Z</td>\n",
       "      <td>[1592088943012585473]</td>\n",
       "      <td>0</td>\n",
       "      <td>0</td>\n",
       "      <td>0</td>\n",
       "      <td>0</td>\n",
       "    </tr>\n",
       "    <tr>\n",
       "      <th>4</th>\n",
       "      <td>@Rakimafp1 Hello. Sorry for that. Kindly hsar ...</td>\n",
       "      <td>1592077243341508609</td>\n",
       "      <td>2022-11-14T08:49:28.000Z</td>\n",
       "      <td>[1592077243341508609]</td>\n",
       "      <td>0</td>\n",
       "      <td>0</td>\n",
       "      <td>0</td>\n",
       "      <td>0</td>\n",
       "    </tr>\n",
       "  </tbody>\n",
       "</table>\n",
       "</div>"
      ],
      "text/plain": [
       "                                                text                   id  \\\n",
       "0           @Otu_montana Hello Otu, dial ##21#OK.^FO  1592105684283400193   \n",
       "1  @BrianKiriethe Hi Bob. Checking in a short whi...  1592102151408738304   \n",
       "2                      @Mr_Sarapai We are on it. ^RM  1592093896267513857   \n",
       "3  @changer_Kenya Hello. Sorry for this. Kindly D...  1592088943012585473   \n",
       "4  @Rakimafp1 Hello. Sorry for that. Kindly hsar ...  1592077243341508609   \n",
       "\n",
       "                 created_at edit_history_tweet_ids  \\\n",
       "0  2022-11-14T10:42:29.000Z  [1592105684283400193]   \n",
       "1  2022-11-14T10:28:27.000Z  [1592102151408738304]   \n",
       "2  2022-11-14T09:55:39.000Z  [1592093896267513857]   \n",
       "3  2022-11-14T09:35:58.000Z  [1592088943012585473]   \n",
       "4  2022-11-14T08:49:28.000Z  [1592077243341508609]   \n",
       "\n",
       "   public_metrics.retweet_count  public_metrics.reply_count  \\\n",
       "0                             0                           1   \n",
       "1                             0                           0   \n",
       "2                             0                           0   \n",
       "3                             0                           0   \n",
       "4                             0                           0   \n",
       "\n",
       "   public_metrics.like_count  public_metrics.quote_count  \n",
       "0                          0                           0  \n",
       "1                          0                           0  \n",
       "2                          0                           0  \n",
       "3                          0                           0  \n",
       "4                          0                           0  "
      ]
     },
     "execution_count": 52,
     "metadata": {},
     "output_type": "execute_result"
    }
   ],
   "source": [
    "# preview the data\n",
    "saf_data.head()"
   ]
  },
  {
   "cell_type": "code",
   "execution_count": 53,
   "metadata": {},
   "outputs": [
    {
     "data": {
      "text/plain": [
       "(100, 8)"
      ]
     },
     "execution_count": 53,
     "metadata": {},
     "output_type": "execute_result"
    }
   ],
   "source": [
    "# the shape of the data \n",
    "saf_data.shape"
   ]
  },
  {
   "cell_type": "markdown",
   "metadata": {},
   "source": [
    "## Topics \n",
    "\n",
    "We can also get recent tweets about a certain topic."
   ]
  },
  {
   "cell_type": "code",
   "execution_count": 130,
   "metadata": {},
   "outputs": [],
   "source": [
    "# Define query\n",
    "query = '(#moringaschool OR #Moringaschool)'\n",
    "\n",
    "# retrieve recent tweets\n",
    "ms_tweets = client.search_recent_tweets(query=query, \n",
    "                                    tweet_fields=['created_at', 'public_metrics'],\n",
    "                                     max_results=100)"
   ]
  },
  {
   "cell_type": "code",
   "execution_count": 132,
   "metadata": {},
   "outputs": [],
   "source": [
    "# save as a dict\n",
    "ms_dict = ms_tweets.json()"
   ]
  },
  {
   "cell_type": "markdown",
   "metadata": {},
   "source": [
    "### Building queries for Search Tweets\n",
    "\n",
    "We can create various search queries that relate to the topic of discusion we are interested in. This would vary from ```hashtags```, using logic operators ```AND``` and ```OR```, getting media ```has:media```, getting ```has:links``` negation ```-is:retweet``` which will not match on Retweets and so much more.\n",
    "\n",
    "The queries we build is dependant on the data and type of data that we are interested in. You read more [here](https://developer.twitter.com/en/docs/twitter-api/tweets/search/integrate/build-a-query) from the twitters developers platform."
   ]
  }
 ],
 "metadata": {
  "kernelspec": {
   "display_name": "Python 3.10.8 64-bit",
   "language": "python",
   "name": "python3"
  },
  "language_info": {
   "codemirror_mode": {
    "name": "ipython",
    "version": 3
   },
   "file_extension": ".py",
   "mimetype": "text/x-python",
   "name": "python",
   "nbconvert_exporter": "python",
   "pygments_lexer": "ipython3",
   "version": "3.10.8"
  },
  "orig_nbformat": 4,
  "vscode": {
   "interpreter": {
    "hash": "e7370f93d1d0cde622a1f8e1c04877d8463912d04d973331ad4851f04de6915a"
   }
  }
 },
 "nbformat": 4,
 "nbformat_minor": 2
}
