{
 "cells": [
  {
   "cell_type": "markdown",
   "metadata": {},
   "source": [
    "## Objectives\n",
    "\n",
    "* Describe an API \n",
    "* Discuss the importance of APIs in Data Science\n",
    "* Consume APIs with Python\n",
    "\n"
   ]
  },
  {
   "cell_type": "markdown",
   "metadata": {},
   "source": [
    "## What is an API?\n",
    "\n",
    "![api](images/api.png)\n",
    "\n",
    "API allows for different computer programs or applications to comminucate with one another. Its acts as as software intermediary allowing software programs to talk to each other.\n",
    "\n",
    "They define the way and format data that data can be extracted from or sent to an application. One software program wants information and another has stored that information, they can use an api to both ask for and receive data.\n",
    "\n",
    "They facilitate communication by allowing information to be requested, sent deleted or modified.\n",
    "\n",
    "APIs can come in many forms or shapes ie:\n",
    "* Operating system APIs such as turning both the camera and audio to allow one to join a zoom call.\n",
    "* Web APIs for performing web actions example posting a tweet on twitter, liking an image on instagram.\n",
    "\n",
    "Irregardless of the type, APIs tend to function the same way ie one usually makes a ```request``` for information and the API returns a ```response``` with what was requested.\n",
    "\n",
    "They allow us to work with real time data containing:\n",
    "* Real time updates. \n",
    "* Date and timestamps for each record.\n",
    "* Geolocation.\n",
    "* Numbers and text for analysis."
   ]
  },
  {
   "cell_type": "markdown",
   "metadata": {},
   "source": [
    "## Overview of Client-Server Model\n",
    "\n",
    "![client-server-model](images/Client-Server.png)\n",
    "\n",
    "Information is stored on the ```server```.\n",
    "\n",
    "Interacting with the information stored on the server is done through the ```client```.\n",
    "\n",
    "Typically, a server acts as a centralized computing resource which can be accessed by many clients for different purposes ie creating,reading, updating, & deleting."
   ]
  },
  {
   "cell_type": "markdown",
   "metadata": {},
   "source": [
    "## Parts of an API\n",
    "\n",
    "An API typically has three core parts:\n",
    "* **Access** - Who is the user accessing the information?\n",
    "* **Request** - What information is the user wanting to access?\n",
    "* **Response** - What is the result of the request?"
   ]
  },
  {
   "cell_type": "markdown",
   "metadata": {},
   "source": [
    "## Why APIs are important to Data Scientist\n",
    "\n",
    "* ### Accessing Data\n",
    "\n",
    "APIs are a great way of accessing data that you are interested in. Many websites and web applications give access to their data via an API. In a real-world situation, most of the data that you will be working with would be coming from a database or from an API and in some situations you may even be accessing your database from an API.\n",
    "\n",
    "* ### Deployment\n",
    "\n",
    "How does one go from *\"I have built a model with 92%\"* to *\"some user can use an app built around my project to know how much in loan they qualify for?\"*. Ideally, upon building a model that performs some task you don't want to just push it to Git and onto the next, instead you want people to be able to use it. If you work with a team of Software Engineers lucky you, but they wouldn't appreciate you just emailing them a notebook with huges chunks of code so they put it into production. Giving your Software Engineers an API instead of a notebook is definitely going to make their lives slightly easier. \n",
    "\n",
    "One of the best ways of making your model usable to other people is by turning it into an API endpoint where people can send data into your API and inturn receive the results of your machine learning model. Models that you build can be great but would inturn be useless if they can't be used by other people."
   ]
  },
  {
   "cell_type": "markdown",
   "metadata": {},
   "source": [
    "📝 **Note** - Its important that:\n",
    "\n",
    "* Learn how to set up and configure APIs in your code.\n",
    "* Learn how to use various python libraries that would help you make API calls.\n",
    "* Work with data structures like dictionaries and JSON to help you collect and save data from the APIs. "
   ]
  },
  {
   "cell_type": "markdown",
   "metadata": {},
   "source": [
    "## Consuming APIs with Python\n",
    "\n",
    "![request](images/pythonrequest.png)\n",
    "\n",
    "[Request](https://pypi.org/project/requests/) allows you to send HTTP requests using python extremely easy. "
   ]
  },
  {
   "cell_type": "code",
   "execution_count": 33,
   "metadata": {},
   "outputs": [],
   "source": [
    "# request to send http request \n",
    "import requests"
   ]
  },
  {
   "cell_type": "markdown",
   "metadata": {},
   "source": [
    "Lets try make a basic request to the [GithubAPI](https://docs.github.com/en/rest).\n",
    "\n",
    "* A **request** contains all the relevant data regarding your API call request such as the base URL, the endpoint, the method used, headers etc.\n",
    "\n",
    "**API Call** - Name given to the entire process of requesting information, retriving that information and delivering that info."
   ]
  },
  {
   "cell_type": "code",
   "execution_count": 34,
   "metadata": {},
   "outputs": [],
   "source": [
    "# basic request to the dog API\n",
    "response = requests.get(\"https://api.github.com\")"
   ]
  },
  {
   "cell_type": "markdown",
   "metadata": {},
   "source": [
    "This inturn creates a ```Response``` object containing the response that we received."
   ]
  },
  {
   "cell_type": "code",
   "execution_count": 35,
   "metadata": {},
   "outputs": [
    {
     "data": {
      "text/plain": [
       "requests.models.Response"
      ]
     },
     "execution_count": 35,
     "metadata": {},
     "output_type": "execute_result"
    }
   ],
   "source": [
    "# type of reponse\n",
    "type(response)"
   ]
  },
  {
   "cell_type": "markdown",
   "metadata": {},
   "source": [
    "* A **response** contains the relevant information that is returned by the server which includes the status code, the data, the header etc"
   ]
  },
  {
   "cell_type": "code",
   "execution_count": 36,
   "metadata": {},
   "outputs": [
    {
     "data": {
      "text/plain": [
       "<Response [200]>"
      ]
     },
     "execution_count": 36,
     "metadata": {},
     "output_type": "execute_result"
    }
   ],
   "source": [
    "# response\n",
    "response"
   ]
  },
  {
   "cell_type": "code",
   "execution_count": 37,
   "metadata": {},
   "outputs": [
    {
     "data": {
      "text/plain": [
       "<PreparedRequest [GET]>"
      ]
     },
     "execution_count": 37,
     "metadata": {},
     "output_type": "execute_result"
    }
   ],
   "source": [
    "response.request"
   ]
  },
  {
   "cell_type": "code",
   "execution_count": 38,
   "metadata": {},
   "outputs": [
    {
     "data": {
      "text/plain": [
       "'https://api.github.com/'"
      ]
     },
     "execution_count": 38,
     "metadata": {},
     "output_type": "execute_result"
    }
   ],
   "source": [
    "request = response.request\n",
    "# url\n",
    "request.url"
   ]
  },
  {
   "cell_type": "code",
   "execution_count": 39,
   "metadata": {},
   "outputs": [
    {
     "data": {
      "text/plain": [
       "'https://api.github.com/'"
      ]
     },
     "execution_count": 39,
     "metadata": {},
     "output_type": "execute_result"
    }
   ],
   "source": [
    "# url path\n",
    "request.url"
   ]
  },
  {
   "cell_type": "code",
   "execution_count": 40,
   "metadata": {},
   "outputs": [
    {
     "data": {
      "text/plain": [
       "'GET'"
      ]
     },
     "execution_count": 40,
     "metadata": {},
     "output_type": "execute_result"
    }
   ],
   "source": [
    "# method\n",
    "request.method"
   ]
  },
  {
   "cell_type": "code",
   "execution_count": 41,
   "metadata": {},
   "outputs": [
    {
     "data": {
      "text/plain": [
       "{'User-Agent': 'python-requests/2.28.1', 'Accept-Encoding': 'gzip, deflate', 'Accept': '*/*', 'Connection': 'keep-alive'}"
      ]
     },
     "execution_count": 41,
     "metadata": {},
     "output_type": "execute_result"
    }
   ],
   "source": [
    "request.headers"
   ]
  },
  {
   "cell_type": "code",
   "execution_count": 42,
   "metadata": {},
   "outputs": [
    {
     "data": {
      "text/plain": [
       "<Response [200]>"
      ]
     },
     "execution_count": 42,
     "metadata": {},
     "output_type": "execute_result"
    }
   ],
   "source": [
    "response"
   ]
  },
  {
   "cell_type": "code",
   "execution_count": 43,
   "metadata": {},
   "outputs": [
    {
     "data": {
      "text/plain": [
       "'{\"current_user_url\":\"https://api.github.com/user\",\"current_user_authorizations_html_url\":\"https://github.com/settings/connections/applications{/client_id}\",\"authorizations_url\":\"https://api.github.com/authorizations\",\"code_search_url\":\"https://api.github.com/search/code?q={query}{&page,per_page,sort,order}\",\"commit_search_url\":\"https://api.github.com/search/commits?q={query}{&page,per_page,sort,order}\",\"emails_url\":\"https://api.github.com/user/emails\",\"emojis_url\":\"https://api.github.com/emojis\",\"events_url\":\"https://api.github.com/events\",\"feeds_url\":\"https://api.github.com/feeds\",\"followers_url\":\"https://api.github.com/user/followers\",\"following_url\":\"https://api.github.com/user/following{/target}\",\"gists_url\":\"https://api.github.com/gists{/gist_id}\",\"hub_url\":\"https://api.github.com/hub\",\"issue_search_url\":\"https://api.github.com/search/issues?q={query}{&page,per_page,sort,order}\",\"issues_url\":\"https://api.github.com/issues\",\"keys_url\":\"https://api.github.com/user/keys\",\"label_search_url\":\"https://api.github.com/search/labels?q={query}&repository_id={repository_id}{&page,per_page}\",\"notifications_url\":\"https://api.github.com/notifications\",\"organization_url\":\"https://api.github.com/orgs/{org}\",\"organization_repositories_url\":\"https://api.github.com/orgs/{org}/repos{?type,page,per_page,sort}\",\"organization_teams_url\":\"https://api.github.com/orgs/{org}/teams\",\"public_gists_url\":\"https://api.github.com/gists/public\",\"rate_limit_url\":\"https://api.github.com/rate_limit\",\"repository_url\":\"https://api.github.com/repos/{owner}/{repo}\",\"repository_search_url\":\"https://api.github.com/search/repositories?q={query}{&page,per_page,sort,order}\",\"current_user_repositories_url\":\"https://api.github.com/user/repos{?type,page,per_page,sort}\",\"starred_url\":\"https://api.github.com/user/starred{/owner}{/repo}\",\"starred_gists_url\":\"https://api.github.com/gists/starred\",\"topic_search_url\":\"https://api.github.com/search/topics?q={query}{&page,per_page}\",\"user_url\":\"https://api.github.com/users/{user}\",\"user_organizations_url\":\"https://api.github.com/user/orgs\",\"user_repositories_url\":\"https://api.github.com/users/{user}/repos{?type,page,per_page,sort}\",\"user_search_url\":\"https://api.github.com/search/users?q={query}{&page,per_page,sort,order}\"}'"
      ]
     },
     "execution_count": 43,
     "metadata": {},
     "output_type": "execute_result"
    }
   ],
   "source": [
    "# response text\n",
    "response.text"
   ]
  },
  {
   "cell_type": "code",
   "execution_count": 44,
   "metadata": {},
   "outputs": [
    {
     "data": {
      "text/plain": [
       "200"
      ]
     },
     "execution_count": 44,
     "metadata": {},
     "output_type": "execute_result"
    }
   ],
   "source": [
    "# status code\n",
    "response.status_code"
   ]
  },
  {
   "cell_type": "code",
   "execution_count": 45,
   "metadata": {},
   "outputs": [
    {
     "data": {
      "text/plain": [
       "{'Server': 'GitHub.com', 'Date': 'Sun, 13 Nov 2022 02:24:26 GMT', 'Cache-Control': 'public, max-age=60, s-maxage=60', 'Vary': 'Accept, Accept-Encoding, Accept, X-Requested-With', 'ETag': '\"4f825cc84e1c733059d46e76e6df9db557ae5254f9625dfe8e1b09499c449438\"', 'Access-Control-Expose-Headers': 'ETag, Link, Location, Retry-After, X-GitHub-OTP, X-RateLimit-Limit, X-RateLimit-Remaining, X-RateLimit-Used, X-RateLimit-Resource, X-RateLimit-Reset, X-OAuth-Scopes, X-Accepted-OAuth-Scopes, X-Poll-Interval, X-GitHub-Media-Type, X-GitHub-SSO, X-GitHub-Request-Id, Deprecation, Sunset', 'Access-Control-Allow-Origin': '*', 'Strict-Transport-Security': 'max-age=31536000; includeSubdomains; preload', 'X-Frame-Options': 'deny', 'X-Content-Type-Options': 'nosniff', 'X-XSS-Protection': '0', 'Referrer-Policy': 'origin-when-cross-origin, strict-origin-when-cross-origin', 'Content-Security-Policy': \"default-src 'none'\", 'Content-Type': 'application/json; charset=utf-8', 'X-GitHub-Media-Type': 'github.v3; format=json', 'Content-Encoding': 'gzip', 'X-RateLimit-Limit': '60', 'X-RateLimit-Remaining': '57', 'X-RateLimit-Reset': '1668309753', 'X-RateLimit-Resource': 'core', 'X-RateLimit-Used': '3', 'Accept-Ranges': 'bytes', 'Content-Length': '510', 'X-GitHub-Request-Id': '0439:4C7E:4F45066:507CF7C:6370555B'}"
      ]
     },
     "execution_count": 45,
     "metadata": {},
     "output_type": "execute_result"
    }
   ],
   "source": [
    "# header\n",
    "response.headers"
   ]
  },
  {
   "cell_type": "markdown",
   "metadata": {},
   "source": [
    "## Status Codes\n",
    "\n",
    "They are among one of the most important pieces of information to look for in any API response. They give feedback of you request ie if it was successful, it it's missing data, if you don't have permission to access that information among others.\n",
    "\n",
    "Some of the status codes include\n",
    "|Status Code|Response      |Description        |\n",
    "|:---------:|:------------:|:------------------|\n",
    "|200        | OK           | Your request was successful.|\n",
    "|201        | CREATED      | Your request was accepted and the resource was created.|\n",
    "|301        | REDIRECTED   | Server is redirecting you to a different endpoint.|\n",
    "|400        | BAD REQUEST  | Server thinks you have made a bad request ie request is wrong or missing some info|\n",
    "|401        | UNAUTHORIZED | Server thinks you are not authorized and require some additional permissions|\n",
    "|403        | FORBIDDEN    | Resource trying to access is forbidden ie you don't have the right permission to see it|\n",
    "|404        | NOT FOUND    | Resource requested does not exist on the server|"
   ]
  },
  {
   "cell_type": "markdown",
   "metadata": {},
   "source": [
    "Making a basic request call to [TheDogApi](https://thedogapi.com/). "
   ]
  },
  {
   "cell_type": "code",
   "execution_count": 46,
   "metadata": {},
   "outputs": [],
   "source": [
    "# request \n",
    "\n",
    "url = \"https://api.thedogapi.com/\"\n",
    "doq_response = requests.get(url)"
   ]
  },
  {
   "cell_type": "code",
   "execution_count": 47,
   "metadata": {},
   "outputs": [
    {
     "data": {
      "text/plain": [
       "200"
      ]
     },
     "execution_count": 47,
     "metadata": {},
     "output_type": "execute_result"
    }
   ],
   "source": [
    "# checking the status code\n",
    "doq_response.status_code"
   ]
  },
  {
   "cell_type": "code",
   "execution_count": 48,
   "metadata": {},
   "outputs": [
    {
     "data": {
      "text/plain": [
       "'OK'"
      ]
     },
     "execution_count": 48,
     "metadata": {},
     "output_type": "execute_result"
    }
   ],
   "source": [
    "# checking the status code response\n",
    "doq_response.reason"
   ]
  },
  {
   "cell_type": "markdown",
   "metadata": {},
   "source": [
    "## HTTP Header\n",
    "\n",
    "Gives the server more information about how to interpret the request.\n",
    "\n",
    "They define the required information governing the request or the response.\n",
    "\n",
    "|HTTP Header| Description |\n",
    "|:----------|:------------|\n",
    "|Accept     | Specify the type of content the client can accept|\n",
    "|User-Agent | Contains info about the user agent originating the request ie the software the client is using to communicate with the server|\n",
    "|Expect     | Indicates that a particular set of server behavior is required by the client|\n",
    "|Content-type| Indicates the media type of the entity-body sent to the recipient ie what type of content server will respond with|\n",
    "|Server| Contains information about the software used by the origin server to handle the request ie the software the server is using to communicate with the client.|"
   ]
  },
  {
   "cell_type": "code",
   "execution_count": 49,
   "metadata": {},
   "outputs": [
    {
     "data": {
      "text/plain": [
       "{'x-dns-prefetch-control': 'off', 'x-frame-options': 'SAMEORIGIN', 'strict-transport-security': 'max-age=15552000; includeSubDomains', 'x-download-options': 'noopen', 'x-content-type-options': 'nosniff', 'x-xss-protection': '1; mode=block', 'vary': 'Origin', 'content-type': 'application/json; charset=utf-8', 'x-response-time': '0ms', 'X-Cloud-Trace-Context': '97f9c870c67ac85498f9010c30775bf1', 'Date': 'Sun, 13 Nov 2022 02:24:31 GMT', 'Server': 'Google Frontend', 'Content-Length': '43'}"
      ]
     },
     "execution_count": 49,
     "metadata": {},
     "output_type": "execute_result"
    }
   ],
   "source": [
    "# using the dog api again\n",
    "response = requests.get(\"https://api.thedogapi.com/\")\n",
    "response.headers"
   ]
  },
  {
   "cell_type": "code",
   "execution_count": 50,
   "metadata": {},
   "outputs": [
    {
     "data": {
      "text/plain": [
       "'application/json; charset=utf-8'"
      ]
     },
     "execution_count": 50,
     "metadata": {},
     "output_type": "execute_result"
    }
   ],
   "source": [
    "# the content type\n",
    "response.headers.get(\"Content-Type\")"
   ]
  },
  {
   "cell_type": "markdown",
   "metadata": {},
   "source": [
    "You can read more about headers [here](https://developer.mozilla.org/en-US/docs/Web/HTTP/Headers)."
   ]
  },
  {
   "cell_type": "markdown",
   "metadata": {},
   "source": [
    "## HTTP Methods\n",
    "\n",
    "Different Methods, also referred to as ```verbs``` are used for specifying the type of action you want to execute, ie, what type of request is this.\n",
    "\n",
    "They allow one to create, read, update and delete resources.\n",
    "\n",
    "|HTTP Method|Description         |\n",
    "|:---------:|:------------------:|\n",
    "|GET| Retrieve Information.   |\n",
    "|POST| Submit new information.    |\n",
    "|PUT|Update an Existing Resource.|\n",
    "|DELETE|Delete an Existing Resource.|"
   ]
  },
  {
   "cell_type": "code",
   "execution_count": 51,
   "metadata": {},
   "outputs": [
    {
     "data": {
      "text/plain": [
       "405"
      ]
     },
     "execution_count": 51,
     "metadata": {},
     "output_type": "execute_result"
    }
   ],
   "source": [
    "# testing using the cat API\n",
    "url = \"https://api.thecatapi.com/\"\n",
    "\n",
    "response = requests.delete(\"https://api.thecatapi.com/\")\n",
    "\n",
    "response.status_code"
   ]
  },
  {
   "cell_type": "code",
   "execution_count": 52,
   "metadata": {},
   "outputs": [
    {
     "data": {
      "text/plain": [
       "'Method Not Allowed'"
      ]
     },
     "execution_count": 52,
     "metadata": {},
     "output_type": "execute_result"
    }
   ],
   "source": [
    "response.reason"
   ]
  },
  {
   "cell_type": "markdown",
   "metadata": {},
   "source": [
    "* Not all end points will actually allow you to use the POST, PUT or DELETE methods."
   ]
  },
  {
   "cell_type": "markdown",
   "metadata": {},
   "source": [
    "## Query Parameters\n",
    "\n",
    "APIs may provide tons of infomation where, some may be very unnecessary.\n",
    "\n",
    "Query Parameters will allow us to only extract certain information that is relevant to our program."
   ]
  },
  {
   "cell_type": "code",
   "execution_count": 53,
   "metadata": {},
   "outputs": [
    {
     "data": {
      "text/plain": [
       "'{\"results\":[{\"gender\":\"female\",\"name\":{\"title\":\"Mrs\",\"first\":\"Angelika\",\"last\":\"Herbert\"},\"location\":{\"street\":{\"number\":7369,\"name\":\"Brunnenstraße\"},\"city\":\"Rastatt\",\"state\":\"Sachsen\",\"country\":\"Germany\",\"postcode\":43292,\"coordinates\":{\"latitude\":\"-51.5036\",\"longitude\":\"109.2731\"},\"timezone\":{\"offset\":\"-8:00\",\"description\":\"Pacific Time (US & Canada)\"}},\"email\":\"angelika.herbert@example.com\",\"login\":{\"uuid\":\"05a2b2bc-5e9b-43f4-9670-55e74660449a\",\"username\":\"angrygoose385\",\"password\":\"iceman\",\"salt\":\"6LRn7s1A\",\"md5\":\"b2d82c220c5303d159022c05cc0b0bdf\",\"sha1\":\"8583b310d3ae1f61b9279cf8fce832d88bb9b1be\",\"sha256\":\"221c628605ea94f618489e7ddc3a6d8b012113dc5ac93897029dde18c3d8a0e5\"},\"dob\":{\"date\":\"1995-07-26T02:14:34.345Z\",\"age\":27},\"registered\":{\"date\":\"2011-04-11T06:05:23.680Z\",\"age\":11},\"phone\":\"0340-2256409\",\"cell\":\"0174-6248239\",\"id\":{\"name\":\"SVNR\",\"value\":\"44 250795 H 945\"},\"picture\":{\"large\":\"https://randomuser.me/api/portraits/women/28.jpg\",\"medium\":\"https://randomuser.me/api/portraits/med/women/28.jpg\",\"thumbnail\":\"https://randomuser.me/api/portraits/thumb/women/28.jpg\"},\"nat\":\"DE\"}],\"info\":{\"seed\":\"cec69eb3e4b041d9\",\"results\":1,\"page\":1,\"version\":\"1.4\"}}'"
      ]
     },
     "execution_count": 53,
     "metadata": {},
     "output_type": "execute_result"
    }
   ],
   "source": [
    "pass_url = \"https://randomuser.me/api/\"\n",
    "\n",
    "response = requests.get(pass_url)\n",
    "\n",
    "response.text"
   ]
  },
  {
   "cell_type": "code",
   "execution_count": 55,
   "metadata": {},
   "outputs": [
    {
     "data": {
      "text/plain": [
       "'{\"results\":[{\"gender\":\"female\",\"name\":{\"title\":\"Ms\",\"first\":\"Renee\",\"last\":\"Hughes\"},\"location\":{\"street\":{\"number\":3550,\"name\":\"Frances Ct\"},\"city\":\"Tallahassee\",\"state\":\"North Dakota\",\"country\":\"United States\",\"postcode\":96832,\"coordinates\":{\"latitude\":\"87.8232\",\"longitude\":\"105.6050\"},\"timezone\":{\"offset\":\"+5:00\",\"description\":\"Ekaterinburg, Islamabad, Karachi, Tashkent\"}},\"email\":\"renee.hughes@example.com\",\"login\":{\"uuid\":\"6ca54eaf-ddc9-4c90-a495-d994a64ed476\",\"username\":\"organicfrog861\",\"password\":\"daylight\",\"salt\":\"Z1XKXJdz\",\"md5\":\"a25451bae1810938230154e71b9643dc\",\"sha1\":\"6fd13b81a81a5beae082be5d0faf394c2d606a24\",\"sha256\":\"7519a44fc40a0a6eece2eae90872c5935286f63156ebf68f03f50af6d1428de8\"},\"dob\":{\"date\":\"1977-02-22T02:52:22.364Z\",\"age\":45},\"registered\":{\"date\":\"2013-11-07T14:37:29.571Z\",\"age\":9},\"phone\":\"(743) 982-4440\",\"cell\":\"(914) 460-1976\",\"id\":{\"name\":\"SSN\",\"value\":\"680-79-3139\"},\"picture\":{\"large\":\"https://randomuser.me/api/portraits/women/25.jpg\",\"medium\":\"https://randomuser.me/api/portraits/med/women/25.jpg\",\"thumbnail\":\"https://randomuser.me/api/portraits/thumb/women/25.jpg\"},\"nat\":\"US\"}],\"info\":{\"seed\":\"0d424368a2fbd3c8\",\"results\":1,\"page\":1,\"version\":\"1.4\"}}'"
      ]
     },
     "execution_count": 55,
     "metadata": {},
     "output_type": "execute_result"
    }
   ],
   "source": [
    "# using the parameter\n",
    "response = requests.get(pass_url, params={\"gender\":\"female\"})\n",
    "\n",
    "response.text"
   ]
  },
  {
   "cell_type": "markdown",
   "metadata": {},
   "source": [
    "## Authentication\n",
    "\n",
    "Many APIs have inplace security measures to make sure that they aren't abused or used for malicious purposes.\n",
    "\n",
    "For such example twitter, you will be required to create a developers account for authentication purposes.\n",
    "\n",
    "Calling an API without credentials will return ```403 Forbiddent Status Code```.\n",
    "\n",
    "### API Key\n",
    "\n",
    "Used to identify the API user and trace your use of the API. They are the most common level of authentication while using APIs.\n",
    "\n",
    "### Request with OAuth\n",
    "From wikipedia, [OAuth](https://en.wikipedia.org/wiki/OAuth) (short for \"Open Authorization\") is an open standard for access delegation, commonly used as a way for internet users to grant websites or applications access to their information on other websites but without giving them the passwords.\n",
    "\n",
    "OAuth is a common standard used by companies such as Amazon, Google, Facebook, Microsoft, and Twitter to provide API access. \"Auth\" includes to two processes:\n",
    "* **Authentication** - Verifying the user's identity.\n",
    "* **Authorization** = Give the user access to a resource."
   ]
  }
 ],
 "metadata": {
  "kernelspec": {
   "display_name": "Python 3.10.8 64-bit",
   "language": "python",
   "name": "python3"
  },
  "language_info": {
   "codemirror_mode": {
    "name": "ipython",
    "version": 3
   },
   "file_extension": ".py",
   "mimetype": "text/x-python",
   "name": "python",
   "nbconvert_exporter": "python",
   "pygments_lexer": "ipython3",
   "version": "3.10.8"
  },
  "orig_nbformat": 4,
  "vscode": {
   "interpreter": {
    "hash": "e7370f93d1d0cde622a1f8e1c04877d8463912d04d973331ad4851f04de6915a"
   }
  }
 },
 "nbformat": 4,
 "nbformat_minor": 2
}
